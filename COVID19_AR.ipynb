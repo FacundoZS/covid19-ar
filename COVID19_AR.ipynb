{
  "nbformat": 4,
  "nbformat_minor": 0,
  "metadata": {
    "colab": {
      "name": "COVID19-AR.ipynb",
      "provenance": [],
      "collapsed_sections": [],
      "toc_visible": true,
      "mount_file_id": "1anKHwVgCgvrmQaJuXgODGG7cDl2VxcKF",
      "authorship_tag": "ABX9TyP7fK3GSOMIJ0DuRqX7gsei",
      "include_colab_link": true
    },
    "kernelspec": {
      "name": "python3",
      "display_name": "Python 3"
    },
    "accelerator": "TPU"
  },
  "cells": [
    {
      "cell_type": "markdown",
      "metadata": {
        "id": "view-in-github",
        "colab_type": "text"
      },
      "source": [
        "<a href=\"https://colab.research.google.com/github/thedarsideofit/covid19-ar/blob/master/COVID19_AR.ipynb\" target=\"_parent\"><img src=\"https://colab.research.google.com/assets/colab-badge.svg\" alt=\"Open In Colab\"/></a>"
      ]
    },
    {
      "cell_type": "markdown",
      "metadata": {
        "id": "zUiboIkovlVK",
        "colab_type": "text"
      },
      "source": [
        "# See the Original  Source >> Towards DataScience - Gianluca Malato\n",
        "  [Covid-19 infection in Italy. Mathematical models and predictions](https://towardsdatascience.com/covid-19-infection-in-italy-mathematical-models-and-predictions-7784b4d7dd8d)\n",
        "\n",
        " and the great adaptation from Enrico Ros [adaptation from Enrico Ros](https://colab.research.google.com/drive/16CzLtNCnYq8x3gEBOgg2pMmDQngSD2vG )"
      ]
    },
    {
      "cell_type": "code",
      "metadata": {
        "id": "bVL-PzoEvfpe",
        "colab_type": "code",
        "colab": {}
      },
      "source": [
        "import pandas as pd\n",
        "import numpy as np\n",
        "from datetime import datetime,timedelta\n",
        "from sklearn.metrics import mean_squared_error\n",
        "from scipy.optimize import curve_fit\n",
        "from scipy.optimize import fsolve\n",
        "import matplotlib.pyplot as plt\n",
        "from IPython.display import HTML as html_print\n",
        "%matplotlib inline"
      ],
      "execution_count": 0,
      "outputs": []
    },
    {
      "cell_type": "code",
      "metadata": {
        "id": "B57UGKdVytJv",
        "colab_type": "code",
        "outputId": "77f90b5a-7874-4f52-ea68-71a1c1b7a97d",
        "colab": {
          "base_uri": "https://localhost:8080/",
          "height": 195
        }
      },
      "source": [
        "url = \"https://raw.githubusercontent.com/thedarsideofit/covid19-ar/master/covid19-ar.csv\"\n",
        "df = pd.read_csv(url)\n",
        "df.tail()"
      ],
      "execution_count": 3,
      "outputs": [
        {
          "output_type": "execute_result",
          "data": {
            "text/html": [
              "<div>\n",
              "<style scoped>\n",
              "    .dataframe tbody tr th:only-of-type {\n",
              "        vertical-align: middle;\n",
              "    }\n",
              "\n",
              "    .dataframe tbody tr th {\n",
              "        vertical-align: top;\n",
              "    }\n",
              "\n",
              "    .dataframe thead th {\n",
              "        text-align: right;\n",
              "    }\n",
              "</style>\n",
              "<table border=\"1\" class=\"dataframe\">\n",
              "  <thead>\n",
              "    <tr style=\"text-align: right;\">\n",
              "      <th></th>\n",
              "      <th>day</th>\n",
              "      <th>country</th>\n",
              "      <th>recovery</th>\n",
              "      <th>new cases</th>\n",
              "      <th>diseases</th>\n",
              "      <th>cases</th>\n",
              "    </tr>\n",
              "  </thead>\n",
              "  <tbody>\n",
              "    <tr>\n",
              "      <th>17</th>\n",
              "      <td>03/20/20</td>\n",
              "      <td>AR</td>\n",
              "      <td>5</td>\n",
              "      <td>30</td>\n",
              "      <td>0</td>\n",
              "      <td>158</td>\n",
              "    </tr>\n",
              "    <tr>\n",
              "      <th>18</th>\n",
              "      <td>03/21/20</td>\n",
              "      <td>AR</td>\n",
              "      <td>1</td>\n",
              "      <td>67</td>\n",
              "      <td>1</td>\n",
              "      <td>225</td>\n",
              "    </tr>\n",
              "    <tr>\n",
              "      <th>19</th>\n",
              "      <td>03/22/20</td>\n",
              "      <td>AR</td>\n",
              "      <td>11</td>\n",
              "      <td>41</td>\n",
              "      <td>0</td>\n",
              "      <td>266</td>\n",
              "    </tr>\n",
              "    <tr>\n",
              "      <th>20</th>\n",
              "      <td>03/23/20</td>\n",
              "      <td>AR</td>\n",
              "      <td>12</td>\n",
              "      <td>36</td>\n",
              "      <td>0</td>\n",
              "      <td>301</td>\n",
              "    </tr>\n",
              "    <tr>\n",
              "      <th>21</th>\n",
              "      <td>03/24/20</td>\n",
              "      <td>AR</td>\n",
              "      <td>1</td>\n",
              "      <td>86</td>\n",
              "      <td>2</td>\n",
              "      <td>387</td>\n",
              "    </tr>\n",
              "  </tbody>\n",
              "</table>\n",
              "</div>"
            ],
            "text/plain": [
              "         day country  recovery  new cases  diseases  cases\n",
              "17  03/20/20      AR         5         30         0    158\n",
              "18  03/21/20      AR         1         67         1    225\n",
              "19  03/22/20      AR        11         41         0    266\n",
              "20  03/23/20      AR        12         36         0    301\n",
              "21  03/24/20      AR         1         86         2    387"
            ]
          },
          "metadata": {
            "tags": []
          },
          "execution_count": 3
        }
      ]
    },
    {
      "cell_type": "code",
      "metadata": {
        "colab_type": "code",
        "outputId": "80519aa5-52cc-4afd-c1b8-80db2c589abd",
        "id": "VB8OssrB0cCk",
        "colab": {
          "base_uri": "https://localhost:8080/",
          "height": 212
        }
      },
      "source": [
        "# select 2 columns, rename, and parse the date\n",
        "#df = df.rename(columns={\"data\": 'day', \"totale_casi\": 'cases'})\n",
        "df = df.loc[:, ['day', 'cases']]\n",
        "first_day = datetime(2020, 1, 2) - timedelta(days=1)\n",
        "print(first_day)\n",
        "df['day'] = df['day'].map(lambda x: (datetime.strptime(x, '%m/%d/%y') - first_day).days)\n",
        "\n",
        "df.tail()"
      ],
      "execution_count": 4,
      "outputs": [
        {
          "output_type": "stream",
          "text": [
            "2020-01-01 00:00:00\n"
          ],
          "name": "stdout"
        },
        {
          "output_type": "execute_result",
          "data": {
            "text/html": [
              "<div>\n",
              "<style scoped>\n",
              "    .dataframe tbody tr th:only-of-type {\n",
              "        vertical-align: middle;\n",
              "    }\n",
              "\n",
              "    .dataframe tbody tr th {\n",
              "        vertical-align: top;\n",
              "    }\n",
              "\n",
              "    .dataframe thead th {\n",
              "        text-align: right;\n",
              "    }\n",
              "</style>\n",
              "<table border=\"1\" class=\"dataframe\">\n",
              "  <thead>\n",
              "    <tr style=\"text-align: right;\">\n",
              "      <th></th>\n",
              "      <th>day</th>\n",
              "      <th>cases</th>\n",
              "    </tr>\n",
              "  </thead>\n",
              "  <tbody>\n",
              "    <tr>\n",
              "      <th>17</th>\n",
              "      <td>79</td>\n",
              "      <td>158</td>\n",
              "    </tr>\n",
              "    <tr>\n",
              "      <th>18</th>\n",
              "      <td>80</td>\n",
              "      <td>225</td>\n",
              "    </tr>\n",
              "    <tr>\n",
              "      <th>19</th>\n",
              "      <td>81</td>\n",
              "      <td>266</td>\n",
              "    </tr>\n",
              "    <tr>\n",
              "      <th>20</th>\n",
              "      <td>82</td>\n",
              "      <td>301</td>\n",
              "    </tr>\n",
              "    <tr>\n",
              "      <th>21</th>\n",
              "      <td>83</td>\n",
              "      <td>387</td>\n",
              "    </tr>\n",
              "  </tbody>\n",
              "</table>\n",
              "</div>"
            ],
            "text/plain": [
              "    day  cases\n",
              "17   79    158\n",
              "18   80    225\n",
              "19   81    266\n",
              "20   82    301\n",
              "21   83    387"
            ]
          },
          "metadata": {
            "tags": []
          },
          "execution_count": 4
        }
      ]
    },
    {
      "cell_type": "code",
      "metadata": {
        "id": "V0_BEklDjHmm",
        "colab_type": "code",
        "outputId": "ce58a69c-aa89-4a60-f9ba-c5aa61d1f0fd",
        "colab": {
          "base_uri": "https://localhost:8080/",
          "height": 271
        }
      },
      "source": [
        "# the following block is just for displaying the input data, with some unused augmentation\n",
        "dfG = df.copy()\n",
        "dfG['cases_diff'] = dfG.diff()['cases']\n",
        "dfG['cases_growth_%'] = round(dfG['cases_diff'] / (dfG['cases'] - dfG['cases_diff']) * 100, 1)\n",
        "dfG['date'] = [first_day + timedelta(days = day) for day in dfG['day']]\n",
        "print(\"...data for the last 7 days\")\n",
        "dfG[-7:]"
      ],
      "execution_count": 5,
      "outputs": [
        {
          "output_type": "stream",
          "text": [
            "...data for the last 7 days\n"
          ],
          "name": "stdout"
        },
        {
          "output_type": "execute_result",
          "data": {
            "text/html": [
              "<div>\n",
              "<style scoped>\n",
              "    .dataframe tbody tr th:only-of-type {\n",
              "        vertical-align: middle;\n",
              "    }\n",
              "\n",
              "    .dataframe tbody tr th {\n",
              "        vertical-align: top;\n",
              "    }\n",
              "\n",
              "    .dataframe thead th {\n",
              "        text-align: right;\n",
              "    }\n",
              "</style>\n",
              "<table border=\"1\" class=\"dataframe\">\n",
              "  <thead>\n",
              "    <tr style=\"text-align: right;\">\n",
              "      <th></th>\n",
              "      <th>day</th>\n",
              "      <th>cases</th>\n",
              "      <th>cases_diff</th>\n",
              "      <th>cases_growth_%</th>\n",
              "      <th>date</th>\n",
              "    </tr>\n",
              "  </thead>\n",
              "  <tbody>\n",
              "    <tr>\n",
              "      <th>15</th>\n",
              "      <td>77</td>\n",
              "      <td>97</td>\n",
              "      <td>19.0</td>\n",
              "      <td>24.4</td>\n",
              "      <td>2020-03-18</td>\n",
              "    </tr>\n",
              "    <tr>\n",
              "      <th>16</th>\n",
              "      <td>78</td>\n",
              "      <td>128</td>\n",
              "      <td>31.0</td>\n",
              "      <td>32.0</td>\n",
              "      <td>2020-03-19</td>\n",
              "    </tr>\n",
              "    <tr>\n",
              "      <th>17</th>\n",
              "      <td>79</td>\n",
              "      <td>158</td>\n",
              "      <td>30.0</td>\n",
              "      <td>23.4</td>\n",
              "      <td>2020-03-20</td>\n",
              "    </tr>\n",
              "    <tr>\n",
              "      <th>18</th>\n",
              "      <td>80</td>\n",
              "      <td>225</td>\n",
              "      <td>67.0</td>\n",
              "      <td>42.4</td>\n",
              "      <td>2020-03-21</td>\n",
              "    </tr>\n",
              "    <tr>\n",
              "      <th>19</th>\n",
              "      <td>81</td>\n",
              "      <td>266</td>\n",
              "      <td>41.0</td>\n",
              "      <td>18.2</td>\n",
              "      <td>2020-03-22</td>\n",
              "    </tr>\n",
              "    <tr>\n",
              "      <th>20</th>\n",
              "      <td>82</td>\n",
              "      <td>301</td>\n",
              "      <td>35.0</td>\n",
              "      <td>13.2</td>\n",
              "      <td>2020-03-23</td>\n",
              "    </tr>\n",
              "    <tr>\n",
              "      <th>21</th>\n",
              "      <td>83</td>\n",
              "      <td>387</td>\n",
              "      <td>86.0</td>\n",
              "      <td>28.6</td>\n",
              "      <td>2020-03-24</td>\n",
              "    </tr>\n",
              "  </tbody>\n",
              "</table>\n",
              "</div>"
            ],
            "text/plain": [
              "    day  cases  cases_diff  cases_growth_%       date\n",
              "15   77     97        19.0            24.4 2020-03-18\n",
              "16   78    128        31.0            32.0 2020-03-19\n",
              "17   79    158        30.0            23.4 2020-03-20\n",
              "18   80    225        67.0            42.4 2020-03-21\n",
              "19   81    266        41.0            18.2 2020-03-22\n",
              "20   82    301        35.0            13.2 2020-03-23\n",
              "21   83    387        86.0            28.6 2020-03-24"
            ]
          },
          "metadata": {
            "tags": []
          },
          "execution_count": 5
        }
      ]
    },
    {
      "cell_type": "markdown",
      "metadata": {
        "id": "YTy9A9pi36kq",
        "colab_type": "text"
      },
      "source": [
        "We can now analyze the two models I’ll take into the exam, which are the logistic function and the exponential function.\n",
        "Each model has three parameters, that will be estimated by a curve fitting calculation on the historical data.\n",
        "The logistic model\n",
        "The logistic model has been widely used to describe the growth of a population. An infection can be described as the growth of the population of a pathogen agent, so a logistic model seems reasonable.\n",
        "This formula is very known among data scientists because it’s used in the logistic regression classifier and as an activation function of neural networks.\n",
        "The most generic expression of a logistic function is:\n",
        "\n",
        "![texto alternativo](https://miro.medium.com/max/310/1*bnVnrdWrWxvZfqJ_1bgrUQ.png)\n",
        "\n",
        "In this formula, we have the variable x that is the time and three parameters: a,b,c.\n",
        "* a refers to the infection speed\n",
        "* b is the day with the maximum infections occurred\n",
        "* c is the total number of recorded infected people at the infection’s end\n",
        "\n",
        "At high time values, the number of infected people gets closer and closer to c and that’s the point at which we can say that the infection has ended. This function has also an inflection point at b, that is the point at which the first derivative starts to decrease (i.e. the peak after which the infection starts to become less aggressive and decreases).\n",
        "Let’s define it in python."
      ]
    },
    {
      "cell_type": "code",
      "metadata": {
        "id": "tAiU7bJp2lu2",
        "colab_type": "code",
        "colab": {}
      },
      "source": [
        "def logistic_model(x,a,b,c):\n",
        "    return c/(1+np.exp(-(x-b)/a))"
      ],
      "execution_count": 0,
      "outputs": []
    },
    {
      "cell_type": "markdown",
      "metadata": {
        "id": "mrEwiW914gT0",
        "colab_type": "text"
      },
      "source": [
        "We can use the curve_fit function of scipy library to estimate the parameter values and errors starting from the original data.\n",
        "\n",
        "Data for Initial Guess\n",
        "\n",
        "[Coronavirus: un informe reservado del Ministerio de Salud proyectaba entre 250.000 y 2.200.000 infectados](https://www.infobae.com/politica/2020/03/22/coronavirus-un-informe-reservado-del-ministerio-de-salud-proyectaba-entre-250000-y-2200000-infectados/)\n",
        "\n",
        "[El futuro de la pandemia\n",
        "La curva del coronavirus en la Argentina: confirman el pico para fines de abril y explican cómo se comportaría el virus](https://www.clarin.com/sociedad/curva-coronavirus-argentina-confirman-pico-fines-abril-explican-comportaria-virus_0_Fm3AUZAUo.html)\n"
      ]
    },
    {
      "cell_type": "code",
      "metadata": {
        "id": "Bh6aJeHm3pgt",
        "colab_type": "code",
        "colab": {}
      },
      "source": [
        "# fit the data to the model (find the model variables that best approximate)\n",
        "def predict_logistic_maximum(df):\n",
        "    samples = df.shape[0]\n",
        "    x_days = df['day'].tolist()\n",
        "    y_cases = df['cases'].tolist()\n",
        "\n",
        "    initial_guess = 2.5, 120, 250000 # speed, peak, amplitude\n",
        "\n",
        "    fit = curve_fit(logistic_model, x_days, y_cases, p0=initial_guess, maxfev=9999)\n",
        "\n",
        "    # parse the result of the fit\n",
        "    speed, x_peak, y_max = fit[0]\n",
        "    speed_error, x_peak_error, y_max_error = [np.sqrt(fit[1][i][i]) for i in [0, 1, 2]]\n",
        "\n",
        "    # find the \"end date\", as the x (day of year) where the function reaches 99.99%\n",
        "    end = int(fsolve(lambda x: logistic_model(x, speed, x_peak, y_max) - y_max * 0.9999, x_peak))\n",
        "\n",
        "    return x_days, y_cases, speed, x_peak, y_max, x_peak_error, y_max_error, end, samples"
      ],
      "execution_count": 0,
      "outputs": []
    },
    {
      "cell_type": "code",
      "metadata": {
        "id": "D_rgH98j_ANA",
        "colab_type": "code",
        "outputId": "b0d82aee-ee15-4317-f0e4-79e7c5703643",
        "colab": {
          "base_uri": "https://localhost:8080/",
          "height": 121
        }
      },
      "source": [
        "# print results\n",
        "def print_prediction(df, label):\n",
        "    x, y, speed, x_peak, y_max, x_peak_error, y_max_error, end, samples = predict_logistic_maximum(df)\n",
        "    print(label + \"'s prediction: \" +\n",
        "          \"maximum cases: \" + str(int(round(y_max))) +\n",
        "          \" (± \" + str(int(round(y_max_error))) + \")\" +\n",
        "          \", peak at calendar day: \" + str(datetime(2020, 1, 2) + timedelta(days=int(round(x_peak)))) +\n",
        "          \" (± \" + str(round(x_peak_error, 2)) + \")\" +\n",
        "          \", ending on day: \" + str(datetime(2020, 1, 2) + timedelta(days=end)))\n",
        "    return y_max\n",
        "\n",
        "\n",
        "print_prediction(df[:-2], \"2 days ago\")\n",
        "print_prediction(df[:-1], \"yesterday\")\n",
        "pred = print_prediction(df, \"today\")\n",
        "print()\n",
        "html_print(\"As of today, the total infection should stabilize at <b>\" + str(int(round(pred))) + \"</b>\")"
      ],
      "execution_count": 17,
      "outputs": [
        {
          "output_type": "stream",
          "text": [
            "2 days ago's prediction: maximum cases: 49307329 (± 1348272942238), peak at calendar day: 2020-05-13 00:00:00 (± 116221.16), ending on day: 2020-06-21 00:00:00\n",
            "yesterday's prediction: maximum cases: 1305 (± 705), peak at calendar day: 2020-03-29 00:00:00 (± 3.11), ending on day: 2020-05-04 00:00:00\n",
            "today's prediction: maximum cases: 1977 (± 1096), peak at calendar day: 2020-03-31 00:00:00 (± 3.16), ending on day: 2020-05-07 00:00:00\n",
            "\n"
          ],
          "name": "stdout"
        },
        {
          "output_type": "execute_result",
          "data": {
            "text/html": [
              "As of today, the total infection should stabilize at <b>1977</b>"
            ],
            "text/plain": [
              "<IPython.core.display.HTML object>"
            ]
          },
          "metadata": {
            "tags": []
          },
          "execution_count": 17
        }
      ]
    },
    {
      "cell_type": "markdown",
      "metadata": {
        "id": "52fJHj9K_eop",
        "colab_type": "text"
      },
      "source": [
        "Plot 1. data & projections, for today and the former 2 days\n",
        "\n"
      ]
    },
    {
      "cell_type": "code",
      "metadata": {
        "id": "W5Koc16j_e2L",
        "colab_type": "code",
        "outputId": "3ded4575-ed0a-4bc6-d2d7-761c54a63a63",
        "colab": {
          "base_uri": "https://localhost:8080/",
          "height": 525
        }
      },
      "source": [
        "plt.rc('font', size=14)\n",
        "\n",
        "\n",
        "def add_real_data(df, label, color=None):\n",
        "    x = df['day'].tolist()\n",
        "    y = df['cases'].tolist()\n",
        "    plt.scatter(x, y, label=\"Data (\" + label + \")\", c=color)\n",
        "\n",
        "\n",
        "def add_logistic_curve(df, label, **kwargs):\n",
        "    x, _, speed, x_peak, y_max, _, _, end, _ = predict_logistic_maximum(df)\n",
        "    x_range = list(range(min(x), end))\n",
        "    plt.plot(x_range,\n",
        "             [logistic_model(i, speed, x_peak, y_max) for i in x_range],\n",
        "             label=\"Logistic model (\" + label + \"): \" + str(int(round(y_max))),\n",
        "             **kwargs)\n",
        "    return y_max\n",
        "\n",
        "\n",
        "def label_and_show_plot(plt, title, y_max=None):\n",
        "    plt.title(title)\n",
        "    plt.xlabel(\"Days since 1 January 2020\")\n",
        "    plt.ylabel(\"Total number of infected people\")\n",
        "    if (y_max):\n",
        "        plt.ylim(0, y_max * 1.1)\n",
        "    plt.legend()\n",
        "    plt.show()\n",
        "\n",
        "\n",
        "# Plot\n",
        "plt.figure(figsize=(12, 8))\n",
        "add_real_data(df[:-2], \"2 days ago\")\n",
        "add_real_data(df[-2:-1], \"yesterday\")\n",
        "add_real_data(df[-1:], \"today\")\n",
        "add_logistic_curve(df[:-2], \"2 days ago\", dashes=[8, 8])\n",
        "add_logistic_curve(df[:-1], \"yesterday\", dashes=[4, 4])\n",
        "y_max = add_logistic_curve(df, \"today\")\n",
        "label_and_show_plot(plt, \"Best logistic fit with the freshest data\", y_max)"
      ],
      "execution_count": 16,
      "outputs": [
        {
          "output_type": "display_data",
          "data": {
            "image/png": "[encoded data removed]",
            "text/plain": [
              "<Figure size 864x576 with 1 Axes>"
            ]
          },
          "metadata": {
            "tags": []
          }
        }
      ]
    }
  ]
}